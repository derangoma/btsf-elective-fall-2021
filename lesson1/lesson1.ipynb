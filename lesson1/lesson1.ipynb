{
 "cells": [
  {
   "cell_type": "markdown",
   "id": "e34fb8be",
   "metadata": {},
   "source": [
    "# welcome to lesson #1\n",
    "\n",
    "things we're going to be learning today:\n",
    "\n",
    "- basic python syntax and how to use jupyter\n",
    "\n",
    "\n",
    "- arithmetic (`+`, `-`, `/`, `*`)\n",
    "\n",
    "\n",
    "- booleans (`True`, `False`), boolean operators (`and`, `or`, `not`) and comparison (`==`, `!=`, `>`, `>=`, `<`, `<=`)\n",
    "\n",
    "\n",
    "don't be afraid to ask questions!"
   ]
  },
  {
   "cell_type": "code",
   "execution_count": null,
   "id": "9e46274d",
   "metadata": {},
   "outputs": [],
   "source": [
    "# when you see a line with \"#\" in front of it, it's a comment, and is ignored by the interpreter"
   ]
  },
  {
   "cell_type": "markdown",
   "id": "2e37d83c",
   "metadata": {},
   "source": [
    "**a very quick jupyter guide**\n",
    "\n",
    "- pressing `shift` + `enter` will cause the code in a cell (the boxes like the one above and below) to run\n",
    "\n",
    "that's all you'll need to know!  we may learn more later"
   ]
  },
  {
   "cell_type": "code",
   "execution_count": null,
   "id": "e1933cbc",
   "metadata": {},
   "outputs": [],
   "source": [
    "# press `shift` and `enter` at the same time to run the code in this cell\n",
    "print(\"hello world!\")\n",
    "print(\"welcome to the very first computer science lesson!\")"
   ]
  },
  {
   "cell_type": "markdown",
   "id": "1a1fce69",
   "metadata": {},
   "source": [
    "**basic math**\n",
    "\n",
    "math operators\n",
    "\n",
    "order of operations applies here: PEMDAS, division and multiplication go first, then addition and subtraction\n",
    "\n",
    "`**`: exponent\n",
    "\n",
    "```python\n",
    "4 ** 2\n",
    ">>>16\n",
    "```\n",
    "\n",
    "`/`: division\n",
    "\n",
    "```python\n",
    "12 / 2\n",
    ">>>6.0\n",
    "```\n",
    "\n",
    "`*`: multiplication\n",
    "\n",
    "```python\n",
    "3 * 4\n",
    ">>>12\n",
    "```\n",
    "\n",
    "`-`: subtraction\n",
    "\n",
    "```python\n",
    "6 - 1\n",
    ">>>5\n",
    "```\n",
    "\n",
    "`+`: addition\n",
    "\n",
    "```python\n",
    "1 + 1\n",
    ">>>2\n",
    "```\n",
    "\n",
    "run the cells below for some live examples"
   ]
  },
  {
   "cell_type": "code",
   "execution_count": null,
   "id": "54323848",
   "metadata": {},
   "outputs": [],
   "source": [
    "4 ** 2"
   ]
  },
  {
   "cell_type": "code",
   "execution_count": null,
   "id": "7cff7b4c",
   "metadata": {},
   "outputs": [],
   "source": [
    "12 / 2"
   ]
  },
  {
   "cell_type": "code",
   "execution_count": null,
   "id": "2e7d3dc7",
   "metadata": {},
   "outputs": [],
   "source": [
    "3 * 4"
   ]
  },
  {
   "cell_type": "code",
   "execution_count": null,
   "id": "960d4b9a",
   "metadata": {},
   "outputs": [],
   "source": [
    "6 - 1"
   ]
  },
  {
   "cell_type": "code",
   "execution_count": null,
   "id": "3f3ff82e",
   "metadata": {},
   "outputs": [],
   "source": [
    "1 + 1"
   ]
  },
  {
   "cell_type": "markdown",
   "id": "40dae3ca",
   "metadata": {},
   "source": [
    "parentheses, `(` and `)`, isolate an expression, PEMDAS means it is executed first\n",
    "\n",
    "```python\n",
    "20 / (5 + 5)\n",
    ">>>2.0\n",
    "(1 + 1) * 5\n",
    ">>>10\n",
    "```"
   ]
  },
  {
   "cell_type": "code",
   "execution_count": null,
   "id": "e0964e53",
   "metadata": {},
   "outputs": [],
   "source": [
    "20 / (5 + 5)"
   ]
  },
  {
   "cell_type": "code",
   "execution_count": null,
   "id": "5aa20600",
   "metadata": {},
   "outputs": [],
   "source": [
    "(1 + 1) * 5"
   ]
  },
  {
   "cell_type": "markdown",
   "id": "ee7310db",
   "metadata": {},
   "source": [
    "# do now\n",
    "\n",
    "write your own expressions below using numbers and the operators shown above\n",
    "\n",
    "use the `print` function to display the output\n",
    "\n",
    "in **cell 1** play with expressions however you want\n",
    "\n",
    "in **cell 2** create 5 `print` statements with **at least one operator** so that when you run the cell, it prints:\n",
    "\n",
    "5\n",
    "\n",
    "4\n",
    "\n",
    "3\n",
    "\n",
    "2\n",
    "\n",
    "1\n",
    "\n",
    "it should look some like this for example:\n",
    "\n",
    "```python\n",
    "print(2 + 3)\n",
    "print(2 * 2)\n",
    "print(9 / 3)\n",
    "print(2 + 0)\n",
    "print(1 ** 2)\n",
    "```"
   ]
  },
  {
   "cell_type": "code",
   "execution_count": null,
   "id": "9b22b423",
   "metadata": {},
   "outputs": [],
   "source": [
    "# cell 1: do whatever you want!\n"
   ]
  },
  {
   "cell_type": "code",
   "execution_count": null,
   "id": "419535cb",
   "metadata": {},
   "outputs": [],
   "source": [
    "# cell 2: print out 5, 4, 3, 2, 1\n",
    "print(2 + 3)  # the first one is done for you!\n"
   ]
  },
  {
   "cell_type": "markdown",
   "id": "b577e35c",
   "metadata": {},
   "source": [
    "**variables**\n",
    "\n",
    "you can assign the output of expressions to variables\n",
    "\n",
    "whatever the expression evaluates to is assigned to the variable\n",
    "\n",
    "```python\n",
    "x = 5 + 3\n",
    "x\n",
    ">>>8\n",
    "x + 1\n",
    ">>>9\n",
    "x * 2\n",
    ">>>16\n",
    "```"
   ]
  },
  {
   "cell_type": "code",
   "execution_count": null,
   "id": "35b59ec1",
   "metadata": {},
   "outputs": [],
   "source": [
    "x = 5 + 3\n",
    "print(x)\n",
    "print(x + 1)\n",
    "print(x * 2)"
   ]
  },
  {
   "cell_type": "markdown",
   "id": "760d1bf2",
   "metadata": {},
   "source": [
    "# do now\n",
    "\n",
    "assign the variable `n` so that the cell below prints out:\n",
    "\n",
    "6\n",
    "\n",
    "7\n",
    "\n",
    "9\n",
    "\n",
    "12\n",
    "\n",
    "when you run it"
   ]
  },
  {
   "cell_type": "code",
   "execution_count": null,
   "id": "30266cdc",
   "metadata": {},
   "outputs": [],
   "source": [
    "n = #YOUR-ANSWER-HERE#\n",
    "print(n + 3)\n",
    "print(n + 4)\n",
    "print(n ** 2)\n",
    "print(n * 4)"
   ]
  },
  {
   "cell_type": "markdown",
   "id": "69e3c227",
   "metadata": {},
   "source": [
    "# booleans\n",
    "\n",
    "what is a boolean?  it's a variable that can have two opposite values, `True` and `False`\n",
    "\n",
    "very simply, statements that are correct are equal to `True`, and statements that are incorrect are equal to `False`\n",
    "\n",
    "we construct these statements with comparison operators (you've probably seen these in math class)\n",
    "\n",
    "`==`: equals\n",
    "\n",
    "```python\n",
    "4 == 4\n",
    ">>>True\n",
    "4 == 5\n",
    ">>>False\n",
    "```\n",
    "\n",
    "`!=`: does not equal\n",
    "\n",
    "```python\n",
    "5 != 200\n",
    ">>>True\n",
    "5 != (2 + 3)\n",
    ">>>False\n",
    "```\n",
    "\n",
    "`>`: greater than\n",
    "\n",
    "```python\n",
    "4 > 3\n",
    ">>>True\n",
    "1 > 100\n",
    ">>> False\n",
    "1 > 1\n",
    ">>>False\n",
    "```\n",
    "\n",
    "`>=`: greater than or equal to\n",
    "\n",
    "```python\n",
    "4 >= 3\n",
    ">>>True\n",
    "1 >= 100\n",
    ">>> False\n",
    "1 >= 1\n",
    ">>>True\n",
    "```\n",
    "\n",
    "\n",
    "`<`: less than\n",
    "\n",
    "```python\n",
    "5 < (5 + 5)\n",
    ">>>True\n",
    "5 < 1\n",
    ">>>False\n",
    "5 < 5\n",
    ">>>False\n",
    "```\n",
    "\n",
    "`<=`: less than or equal to\n",
    "\n",
    "```python\n",
    "5 <= (5 + 5)\n",
    ">>>True\n",
    "5 <= 1\n",
    ">>>False\n",
    "5 <= 5\n",
    ">>>True\n",
    "```\n",
    "\n",
    "run the cells below for some live examples"
   ]
  },
  {
   "cell_type": "code",
   "execution_count": null,
   "id": "340697e7",
   "metadata": {},
   "outputs": [],
   "source": [
    "4 == 4"
   ]
  },
  {
   "cell_type": "code",
   "execution_count": null,
   "id": "518251e8",
   "metadata": {},
   "outputs": [],
   "source": [
    "5 != (2 + 3)"
   ]
  },
  {
   "cell_type": "code",
   "execution_count": null,
   "id": "1af07dbe",
   "metadata": {},
   "outputs": [],
   "source": [
    "1 > 100"
   ]
  },
  {
   "cell_type": "code",
   "execution_count": null,
   "id": "4569fc7e",
   "metadata": {},
   "outputs": [],
   "source": [
    "1 >= 1"
   ]
  },
  {
   "cell_type": "code",
   "execution_count": null,
   "id": "477357b3",
   "metadata": {},
   "outputs": [],
   "source": [
    "5 < (5 + 5)"
   ]
  },
  {
   "cell_type": "code",
   "execution_count": null,
   "id": "242e5553",
   "metadata": {},
   "outputs": [],
   "source": [
    "5 <= 5"
   ]
  },
  {
   "cell_type": "markdown",
   "id": "d1f19ca1",
   "metadata": {},
   "source": [
    "# do now\n",
    "\n",
    "in **cell 1**, write any expression with at least one operator that evaluates to `True`\n",
    "\n",
    "and in in **cell 1**, write any expression with at least one operator that evaluates to `False`\n",
    "\n",
    "be creative!"
   ]
  },
  {
   "cell_type": "code",
   "execution_count": null,
   "id": "f0c731f8",
   "metadata": {},
   "outputs": [],
   "source": [
    "# cell 1\n",
    "\n"
   ]
  },
  {
   "cell_type": "code",
   "execution_count": null,
   "id": "40438691",
   "metadata": {},
   "outputs": [],
   "source": [
    "# cell 2\n",
    "\n"
   ]
  },
  {
   "cell_type": "markdown",
   "id": "0bce7970",
   "metadata": {},
   "source": [
    "# boolean operators\n",
    "\n",
    "there are 3 boolean operators we're going to go over: `and`, `or`, and `not`\n",
    "\n",
    "`and` and `or` join two expressions\n",
    "\n",
    "\n",
    "`and` is like saying, \"both must be true\"\n",
    "\n",
    "```python\n",
    "(5 > 3) and (1 + 1 == 2)  # both statements are correct\n",
    ">>>True\n",
    "(1 == 2) and (4 == 4)  # only one statement is correct\n",
    ">>>False\n",
    "```\n",
    "\n",
    "`or` is like saying, \"just one needs to be true\"\n",
    "\n",
    "```python\n",
    "(5 > 3) or (1 + 1 == 2)  # both statements are correct\n",
    ">>>True\n",
    "(1 == 2) or (4 == 4)  # only one statement is correct\n",
    ">>>True\n",
    "```\n",
    "\n",
    "below is a handy table that demonstrates the complete behavior\n",
    "\n",
    "| a     | b     | a `and` b | a `or` b |\n",
    "|-------|-------|-----------|----------|\n",
    "| True  | True  | True      | True     |\n",
    "| True  | False | False     | True     |\n",
    "| False | True  | False     | True     |\n",
    "| False | False | False     | False    |\n",
    "\n",
    "`not` simply takes the result of any expression, and makes it the opposite\n",
    "\n",
    "```python\n",
    "True\n",
    ">>>True\n",
    "not True\n",
    ">>>False\n",
    "5 == 5\n",
    ">>>True\n",
    "not (5 == 5)\n",
    ">>>False\n",
    "not True == False  # think about this one\n",
    ">>>True\n",
    "```\n",
    "\n",
    "run the cells below for some live examples"
   ]
  },
  {
   "cell_type": "code",
   "execution_count": null,
   "id": "38d10316",
   "metadata": {},
   "outputs": [],
   "source": [
    "(5 > 3) and (1 + 1 == 2)"
   ]
  },
  {
   "cell_type": "code",
   "execution_count": null,
   "id": "6de4a501",
   "metadata": {},
   "outputs": [],
   "source": [
    "(1 == 2) or (4 == 4)"
   ]
  },
  {
   "cell_type": "code",
   "execution_count": null,
   "id": "1c9eccb7",
   "metadata": {},
   "outputs": [],
   "source": [
    "not True == False"
   ]
  },
  {
   "cell_type": "markdown",
   "id": "caa0b6fb",
   "metadata": {},
   "source": [
    "# do now\n",
    "\n",
    "this is the last exercise of the session!\n",
    "\n",
    "in **cell 1** write an expression with `and`, `or`, and `not` that evaluates to `True`\n",
    "\n",
    "and in **cell 2** write an expression with `and`, `or`, and `not` that evaluates to `False`\n",
    "\n",
    "make sure to use all three, and be creative"
   ]
  },
  {
   "cell_type": "code",
   "execution_count": null,
   "id": "8df118d1",
   "metadata": {},
   "outputs": [],
   "source": [
    "# cell 1\n"
   ]
  },
  {
   "cell_type": "code",
   "execution_count": null,
   "id": "e8da81e9",
   "metadata": {},
   "outputs": [],
   "source": [
    "# cell 2\n"
   ]
  },
  {
   "cell_type": "markdown",
   "id": "06c9f1db",
   "metadata": {},
   "source": [
    "that's it!  thanks for participating: if we have time we'll continue with bonus activites down below"
   ]
  },
  {
   "cell_type": "code",
   "execution_count": null,
   "id": "6cfa5dcd",
   "metadata": {},
   "outputs": [],
   "source": []
  }
 ],
 "metadata": {
  "kernelspec": {
   "display_name": "Python 3 (ipykernel)",
   "language": "python",
   "name": "python3"
  },
  "language_info": {
   "codemirror_mode": {
    "name": "ipython",
    "version": 3
   },
   "file_extension": ".py",
   "mimetype": "text/x-python",
   "name": "python",
   "nbconvert_exporter": "python",
   "pygments_lexer": "ipython3",
   "version": "3.9.6"
  }
 },
 "nbformat": 4,
 "nbformat_minor": 5
}
