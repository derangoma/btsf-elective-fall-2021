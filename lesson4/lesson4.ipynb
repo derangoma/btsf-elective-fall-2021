{
 "cells": [
  {
   "cell_type": "markdown",
   "id": "88878ffb",
   "metadata": {},
   "source": [
    "# quick function review\n",
    "\n",
    "we're going to review functions really quick and write one of our own using a new concept we'll briefly touch on recursion\n",
    "\n",
    "the function we want to implement is going to give use the `n`th number in the **fibonacci** sequence, which is shown below:\n",
    "\n",
    "1. 0\n",
    "2. 1\n",
    "3. 1\n",
    "4. 2\n",
    "5. 3\n",
    "6. 5\n",
    "7. 8\n",
    "8. 13\n",
    "9. 21\n",
    "\n",
    "can you figure out the 10th, 11th, and 12th numbers in the sequence?  we'll work through this problem together down below"
   ]
  },
  {
   "cell_type": "code",
   "execution_count": null,
   "id": "1ffbae3a",
   "metadata": {},
   "outputs": [],
   "source": [
    "def fibonacci(n):\n",
    "    # your code here #\n",
    "    pass\n"
   ]
  },
  {
   "cell_type": "code",
   "execution_count": null,
   "id": "33697d74",
   "metadata": {},
   "outputs": [],
   "source": [
    "# run this code below to see if your answer is correct!\n",
    "# here we see an example of a for loop:\n",
    "def test_fibonacci(fibonacci_function):\n",
    "    for n, expected_output in [\n",
    "        (1, 0),\n",
    "        (2, 1),\n",
    "        (3, 1),\n",
    "        (9, 21),\n",
    "        (10, 34),\n",
    "        (20, 4181),\n",
    "    ]:\n",
    "        answer = fibonacci_function(n)\n",
    "        if answer == expected_output:\n",
    "            print(f\"Awesome!  Got the correct answer for {n}: {expected_output}\")\n",
    "        else:\n",
    "            print(f\"Oh no!  Expected {expected_output} for {n} but got {answer}\")"
   ]
  },
  {
   "cell_type": "code",
   "execution_count": null,
   "id": "70aaa893",
   "metadata": {},
   "outputs": [],
   "source": [
    "test_fibonacci(fibonacci)"
   ]
  },
  {
   "cell_type": "code",
   "execution_count": null,
   "id": "f387e962",
   "metadata": {},
   "outputs": [],
   "source": []
  },
  {
   "cell_type": "markdown",
   "id": "bf081065",
   "metadata": {},
   "source": [
    "# `lists`, `iterable`s, and `for` loops\n",
    "\n",
    "we're going to learn first about are `list`s and `range`s.  we'll only go over the basics at first, and learn more as we go\n",
    "\n",
    "`list`s are comma separated groups of numbers enclosed by square brackets: `[` and `]`\n",
    "\n",
    "for example:\n",
    "\n",
    "```python\n",
    "list1 = [1, 2, 3, 4, 5, 6]\n",
    "list2 = [5]\n",
    "list3 = []\n",
    "list4 = [5, 6, 7]\n",
    "```\n",
    "are all valid lists\n",
    "\n",
    "we can iterate through a list with a for loop:\n",
    "```python\n",
    "for i in list1:\n",
    "    print(i)\n",
    "```\n",
    "this would print:\n",
    "```\n",
    "1\n",
    "2\n",
    "3\n",
    "4\n",
    "5\n",
    "6\n",
    "```\n",
    "\n",
    "we can construct something similar with a `range`\n",
    "\n",
    "```python\n",
    "for i in range(1, 7):\n",
    "    print(i)\n",
    "```\n",
    "\n",
    "the `range` constructor takes 2 important arguments, the start and stop, where stop is just whatever number you want to stop on plus one\n",
    "\n",
    "for example, if you wanted the `range` from 0 to 25, you would use the following:\n",
    "```python\n",
    "range(0, 25 + 1)\n",
    "```\n",
    "or\n",
    "```python\n",
    "range(0, 26)\n",
    "```\n",
    "\n",
    "in the cells below write 2 for loops that print the numbers from 1 to 10, for the first one use a `list` and for the second one use a `range`"
   ]
  },
  {
   "cell_type": "code",
   "execution_count": null,
   "id": "2390b1d1",
   "metadata": {},
   "outputs": [],
   "source": [
    "\n",
    "\n"
   ]
  },
  {
   "cell_type": "code",
   "execution_count": null,
   "id": "d2ca42e0",
   "metadata": {},
   "outputs": [],
   "source": [
    "\n",
    "\n"
   ]
  },
  {
   "cell_type": "markdown",
   "id": "ec278f91",
   "metadata": {},
   "source": [
    "# `while` loops\n",
    "\n",
    "iteration is important in every programming language, and today we're going to learn about how it works in python\n",
    "\n",
    "specifically, we'll be working with `for` loops and `while` loops\n",
    "\n",
    "a `while` loop will execute the code in the indentation below as long as the boolean statement in the while loop evaluates to `True`:\n",
    "\n",
    "```python\n",
    "i = 1\n",
    "while i <= 10:\n",
    "    print(i)\n",
    "    i += 1\n",
    "```\n",
    "\n",
    "this `while` loop will print the numbers `1` through `10`\n",
    "\n",
    "do the same problem we did above, but with a while loop"
   ]
  },
  {
   "cell_type": "code",
   "execution_count": null,
   "id": "cd183565",
   "metadata": {},
   "outputs": [],
   "source": [
    "\n",
    "\n"
   ]
  },
  {
   "cell_type": "markdown",
   "id": "770f8d8a",
   "metadata": {},
   "source": [
    "# do now\n",
    "\n",
    "we're going to implement the same `fibonacci` function we implemented in the very first problem we did, but we're going to use a while loop"
   ]
  },
  {
   "cell_type": "code",
   "execution_count": null,
   "id": "71751f69",
   "metadata": {},
   "outputs": [],
   "source": [
    "def fibonacci_while_loop(n):\n",
    "    # your code here #\n",
    "    pass\n"
   ]
  },
  {
   "cell_type": "code",
   "execution_count": null,
   "id": "85c4ad11",
   "metadata": {},
   "outputs": [],
   "source": [
    "test_fibonacci(fibonacci_while_loop)"
   ]
  },
  {
   "cell_type": "markdown",
   "id": "c4bad56d",
   "metadata": {},
   "source": [
    "if you're finished, see the teacher for more challenge problems to do below"
   ]
  },
  {
   "cell_type": "code",
   "execution_count": null,
   "id": "ff3f2acd",
   "metadata": {},
   "outputs": [],
   "source": []
  }
 ],
 "metadata": {
  "kernelspec": {
   "display_name": "Python 3 (ipykernel)",
   "language": "python",
   "name": "python3"
  },
  "language_info": {
   "codemirror_mode": {
    "name": "ipython",
    "version": 3
   },
   "file_extension": ".py",
   "mimetype": "text/x-python",
   "name": "python",
   "nbconvert_exporter": "python",
   "pygments_lexer": "ipython3",
   "version": "3.9.7"
  }
 },
 "nbformat": 4,
 "nbformat_minor": 5
}
