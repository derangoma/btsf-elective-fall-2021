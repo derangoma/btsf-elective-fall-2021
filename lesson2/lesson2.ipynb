{
 "cells": [
  {
   "cell_type": "markdown",
   "id": "9069d6fe",
   "metadata": {},
   "source": [
    "# welcome to lesson #2\n",
    "\n",
    "things we're going to be learning today:\n",
    "\n",
    "- if/else statements\n",
    "\n",
    "- functions\n",
    "\n",
    "- project brainstorming\n",
    "\n",
    "\n",
    "don't be afraid to ask questions!"
   ]
  },
  {
   "cell_type": "code",
   "execution_count": null,
   "id": "9437dfe2",
   "metadata": {},
   "outputs": [],
   "source": [
    "# if/else statements are key part of any programming language\n",
    "\n",
    "n = 5  # change this to any value you choose\n",
    "\n",
    "if n < 5:\n",
    "    print(\"n is less than 5\")\n",
    "elif n == 5:\n",
    "    print(\"n is equal to 5\")\n",
    "else:\n",
    "    print(\"n is greater than 5\")"
   ]
  },
  {
   "cell_type": "markdown",
   "id": "5144f3c0",
   "metadata": {},
   "source": [
    "there are 3 python constructs you'll need to know to proceed:\n",
    "\n",
    "`if`, `elif`, and `else`\n",
    "\n",
    "`elif` is short for \"else if\"\n",
    "\n",
    "the first statement is always the `if` statement:\n",
    "```python\n",
    "if n < 5:\n",
    "    print(\"n is less than 5\")\n",
    "```\n",
    "\n",
    "else if statements can be added for different behavior if the initial expression in the `if` statement is false, but the expression in the `elif` statement is true\n",
    "```python\n",
    "elif n == 5:\n",
    "    print(\"n is equal to 5\")\n",
    "```\n",
    "\n",
    "if all the statements in the `if` and `elif` statements are false, then it executes whatever is below the `else` statement\n",
    "```python\n",
    "else:\n",
    "    print(\"n is greater than 5\")\n",
    "```\n",
    "\n",
    "because `n < 5` and `n == 5` are both `False`, the `else` statement must imply that `n > 5` is `True`"
   ]
  },
  {
   "cell_type": "markdown",
   "id": "2f4b9b20",
   "metadata": {},
   "source": [
    "# do now\n",
    "\n",
    "write an `else`-`if` statement that `print`s `4` when `x` is equal to `1`, `5` when `x` is equal to `2` and `6` when x is equal to `3`\n",
    "\n",
    "use `if`, `elif`, and `else` exactly once each"
   ]
  },
  {
   "cell_type": "code",
   "execution_count": null,
   "id": "ef408f0e",
   "metadata": {},
   "outputs": [],
   "source": [
    "# change x to different values to test your statement\n",
    "x = 5\n",
    "# write your code below\n",
    "\n",
    "\n",
    "\n"
   ]
  },
  {
   "cell_type": "markdown",
   "id": "0010275e",
   "metadata": {},
   "source": [
    "# functions\n",
    "\n",
    "a function in python is a construct that accepts one or more inputs, and returns an output\n",
    "\n",
    "here we'll focus at first on functions that have a single input\n",
    "\n",
    "a function in python looks like this:\n",
    "\n",
    "```python\n",
    "def f(x):\n",
    "    print(\"hello world\")\n",
    "    return 42\n",
    "```\n",
    "\n",
    "we can see a couple major key parts:\n",
    "\n",
    "this is the function definition, where the `def` statement is followed by the function name (in this case `f`) and the name of the argument (in this case `x`)\n",
    "```python\n",
    "def f(x):\n",
    "```\n",
    "\n",
    "this is the function body, this code is executed when you call the function\n",
    "```python\n",
    "    print(\"hello world\")\n",
    "```\n",
    "\n",
    "and this is the return statment.  this is what the function returns when it finishes running\n",
    "```python\n",
    "    return 42\n",
    "```\n",
    "\n",
    "you call functions by passing in an argument:\n",
    "```python\n",
    "f(10)\n",
    ">>>42\n",
    "```\n",
    "\n",
    "if you set a variable equal to a function call, you get whatever it returns\n",
    "```python\n",
    "y = f(10)\n",
    "y\n",
    ">>>42\n",
    "```\n",
    "\n",
    "try it out below"
   ]
  },
  {
   "cell_type": "code",
   "execution_count": null,
   "id": "115c5012",
   "metadata": {},
   "outputs": [],
   "source": [
    "def f(x):\n",
    "    print(\"hello world\")\n",
    "    return 42\n"
   ]
  },
  {
   "cell_type": "code",
   "execution_count": null,
   "id": "0fd3ba9a",
   "metadata": {},
   "outputs": [],
   "source": [
    "f(10)"
   ]
  },
  {
   "cell_type": "code",
   "execution_count": null,
   "id": "7edc9672",
   "metadata": {},
   "outputs": [],
   "source": [
    "f(500)"
   ]
  },
  {
   "cell_type": "code",
   "execution_count": null,
   "id": "5e7b2cf6",
   "metadata": {},
   "outputs": [],
   "source": [
    "y = f(0)\n",
    "print(y)"
   ]
  },
  {
   "cell_type": "markdown",
   "id": "89a8f167",
   "metadata": {},
   "source": [
    "# do now\n",
    "\n",
    "tell the teacher what the function above does"
   ]
  },
  {
   "cell_type": "code",
   "execution_count": null,
   "id": "1060cc29",
   "metadata": {},
   "outputs": [],
   "source": []
  },
  {
   "attachments": {
    "image-2.png": {
     "image/png": "[encoded data removed]"
    }
   },
   "cell_type": "markdown",
   "id": "a4813de2",
   "metadata": {},
   "source": [
    "# more on functions\n",
    "\n",
    "we can think about a function as a machine that turns a set of inputs into a set of outputs, like the picture below:\n",
    "\n",
    "![image-2.png](attachment:image-2.png)\n",
    "\n",
    "we can write a function that describes that picture"
   ]
  },
  {
   "cell_type": "code",
   "execution_count": null,
   "id": "1b7f0780",
   "metadata": {},
   "outputs": [],
   "source": [
    "def f(x):\n",
    "    if x == 1:\n",
    "        return 5\n",
    "    elif x == 2:\n",
    "        return 8\n",
    "    elif x == 3:\n",
    "        return 6\n",
    "    else:\n",
    "        print(\"the domain is only 1, 2, and 3\")"
   ]
  },
  {
   "cell_type": "markdown",
   "id": "7a6cf3c2",
   "metadata": {},
   "source": [
    "# do now\n",
    "run the function above on 5 different inputs and show the teacher"
   ]
  },
  {
   "cell_type": "code",
   "execution_count": null,
   "id": "fc82e98f",
   "metadata": {},
   "outputs": [],
   "source": []
  },
  {
   "cell_type": "code",
   "execution_count": null,
   "id": "e2085a37",
   "metadata": {},
   "outputs": [],
   "source": []
  },
  {
   "cell_type": "code",
   "execution_count": null,
   "id": "7c34c1b6",
   "metadata": {},
   "outputs": [],
   "source": []
  },
  {
   "cell_type": "code",
   "execution_count": null,
   "id": "16587a3c",
   "metadata": {},
   "outputs": [],
   "source": []
  },
  {
   "cell_type": "code",
   "execution_count": null,
   "id": "43b4aaf6",
   "metadata": {},
   "outputs": [],
   "source": []
  },
  {
   "attachments": {
    "image.png": {
     "image/png": "[encoded data removed]"
    }
   },
   "cell_type": "markdown",
   "id": "6f5dd785",
   "metadata": {},
   "source": [
    "# do now\n",
    "turn the pictures of a functions below into a python function using if/else statements\n",
    "\n",
    "![image.png](attachment:image.png)\n",
    "\n",
    "do the one on the left in **cell 1** and the one on the right in **cell 2**, tell the teacher when you're finished"
   ]
  },
  {
   "cell_type": "code",
   "execution_count": null,
   "id": "076dc57e",
   "metadata": {},
   "outputs": [],
   "source": [
    "# cell 1\n",
    "\n",
    "\n",
    "\n",
    "\n"
   ]
  },
  {
   "cell_type": "code",
   "execution_count": null,
   "id": "57281807",
   "metadata": {},
   "outputs": [],
   "source": [
    "# cell 2\n",
    "\n",
    "\n",
    "\n",
    "\n"
   ]
  },
  {
   "cell_type": "markdown",
   "id": "06098d9e",
   "metadata": {},
   "source": [
    "# bonus\n",
    "\n",
    "if you finish early do the following exercises:\n",
    "\n",
    "1. write a python function that squares the input.  if my input is 2, my output is 4\n",
    "\n",
    "2. write a python function that increases the input by 3.  if my input is 4, my output is 7\n",
    "\n",
    "3. write a python function that returns -1 if the input is negative, -2 if the input is equal to 0, and 42 in all other cases\n"
   ]
  },
  {
   "cell_type": "code",
   "execution_count": null,
   "id": "eaeb79ba",
   "metadata": {},
   "outputs": [],
   "source": []
  },
  {
   "cell_type": "code",
   "execution_count": null,
   "id": "decd4441",
   "metadata": {},
   "outputs": [],
   "source": []
  },
  {
   "cell_type": "code",
   "execution_count": null,
   "id": "9ab601a3",
   "metadata": {},
   "outputs": [],
   "source": []
  },
  {
   "cell_type": "code",
   "execution_count": null,
   "id": "33dec255",
   "metadata": {},
   "outputs": [],
   "source": []
  },
  {
   "cell_type": "code",
   "execution_count": null,
   "id": "53222525",
   "metadata": {},
   "outputs": [],
   "source": []
  },
  {
   "cell_type": "code",
   "execution_count": null,
   "id": "fb3971a2",
   "metadata": {},
   "outputs": [],
   "source": []
  },
  {
   "cell_type": "markdown",
   "id": "238459af",
   "metadata": {},
   "source": [
    "# last thing\n",
    "\n",
    "thing of project ideas you want to work on!"
   ]
  },
  {
   "cell_type": "code",
   "execution_count": null,
   "id": "1efdc7a2",
   "metadata": {},
   "outputs": [],
   "source": []
  }
 ],
 "metadata": {
  "kernelspec": {
   "display_name": "Python 3 (ipykernel)",
   "language": "python",
   "name": "python3"
  },
  "language_info": {
   "codemirror_mode": {
    "name": "ipython",
    "version": 3
   },
   "file_extension": ".py",
   "mimetype": "text/x-python",
   "name": "python",
   "nbconvert_exporter": "python",
   "pygments_lexer": "ipython3",
   "version": "3.9.7"
  }
 },
 "nbformat": 4,
 "nbformat_minor": 5
}
